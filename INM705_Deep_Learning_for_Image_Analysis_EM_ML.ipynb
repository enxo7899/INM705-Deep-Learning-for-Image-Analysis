{
  "cells": [
    {
      "cell_type": "markdown",
      "metadata": {},
      "source": [
        "1. Setup and Imports\n",
        "We imported necessary libraries and defined the device configuration for training. Apple silicon processor M1. "
      ]
    },
    {
      "cell_type": "code",
      "execution_count": 1,
      "metadata": {},
      "outputs": [
        {
          "name": "stdout",
          "output_type": "stream",
          "text": [
            "Using device: mps\n"
          ]
        }
      ],
      "source": [
        "import torch\n",
        "import torchvision.transforms as transforms\n",
        "import torchvision.models as models\n",
        "import torch.nn as nn\n",
        "from torch.utils.data import DataLoader, random_split\n",
        "from torchvision.datasets import ImageFolder\n",
        "from PIL import Image\n",
        "import os\n",
        "import glob\n",
        "import matplotlib.pyplot as plt\n",
        "import seaborn as sns\n",
        "import numpy as np\n",
        "from sklearn.metrics import confusion_matrix, accuracy_score\n",
        "\n",
        "# Check for device: use MPS if available, otherwise use CPU\n",
        "device = torch.device(\"mps\" if torch.backends.mps.is_available() else \"cpu\")\n",
        "print(f\"Using device: {device}\")\n"
      ]
    },
    {
      "cell_type": "code",
      "execution_count": 2,
      "metadata": {},
      "outputs": [
        {
          "name": "stderr",
          "output_type": "stream",
          "text": [
            "\u001b[34m\u001b[1mwandb\u001b[0m: Currently logged in as: \u001b[33menxo7899\u001b[0m (\u001b[33mem-city\u001b[0m). Use \u001b[1m`wandb login --relogin`\u001b[0m to force relogin\n",
            "\u001b[34m\u001b[1mwandb\u001b[0m: \u001b[33mWARNING\u001b[0m If you're specifying your api key in code, ensure this code is not shared publicly.\n",
            "\u001b[34m\u001b[1mwandb\u001b[0m: \u001b[33mWARNING\u001b[0m Consider setting the WANDB_API_KEY environment variable, or running `wandb login` from the command line.\n",
            "\u001b[34m\u001b[1mwandb\u001b[0m: Appending key for api.wandb.ai to your netrc file: /Users/enxom/.netrc\n"
          ]
        },
        {
          "data": {
            "text/plain": [
              "True"
            ]
          },
          "execution_count": 2,
          "metadata": {},
          "output_type": "execute_result"
        }
      ],
      "source": [
        "import wandb\n",
        "import os\n",
        "\n",
        "# Set the notebook name\n",
        "os.environ[\"WANDB_NOTEBOOK_NAME\"] = \"INM705_Deep_Learning_for_Image_Analysis_EM_ML.ipynb\"\n",
        "\n",
        "\n",
        "# Login with the API KEY\n",
        "wandb.login(key=\"9ce954fd827fd8d839648cb3708ff788ad51bafa\")"
      ]
    },
    {
      "cell_type": "markdown",
      "metadata": {},
      "source": [
        "2. Data Preparation\n",
        "This snippet involves loading the data, defining image transformations, and preparing DataLoader objects for training, validation, and testing datasets."
      ]
    },
    {
      "cell_type": "code",
      "execution_count": 4,
      "metadata": {},
      "outputs": [],
      "source": [
        "def is_valid_file(file_path):\n",
        "    valid_extensions = ['.jpg', '.jpeg', '.png', '.ppm', '.bmp', '.pgm', '.tif', '.tiff', '.webp']\n",
        "    return any(file_path.endswith(ext) for ext in valid_extensions)\n",
        "\n",
        "def collect_data(directory):\n",
        "    data = []\n",
        "    labels = []\n",
        "    class_to_idx = {cls: idx for idx, cls in enumerate(os.listdir(directory)) if os.path.isdir(os.path.join(directory, cls))}\n",
        "    for cls, idx in class_to_idx.items():\n",
        "        class_path = os.path.join(directory, cls)\n",
        "        for file_path in glob.glob(os.path.join(class_path, '*')):\n",
        "            if is_valid_file(file_path):\n",
        "                data.append(file_path)\n",
        "                labels.append(idx)\n",
        "    return data, labels, class_to_idx\n",
        "\n",
        "# Path to the dataset\n",
        "dataset_path = '/Users/enxom/Desktop/INM705 CW/dataset1'\n",
        "data, labels, class_to_idx = collect_data(dataset_path)\n",
        "\n",
        "# Define transformations\n",
        "transform = transforms.Compose([\n",
        "    transforms.Resize((224, 224)),\n",
        "    transforms.ColorJitter(brightness=0.2, contrast=0.2, saturation=0.2, hue=0.1),\n",
        "    transforms.RandomHorizontalFlip(),\n",
        "    transforms.ToTensor()\n",
        "])\n",
        "\n",
        "class CustomImageDataset(torch.utils.data.Dataset):\n",
        "    def __init__(self, data, labels, transform=None):\n",
        "        self.data = data\n",
        "        self.labels = labels\n",
        "        self.transform = transform\n",
        "    def __len__(self):\n",
        "        return len(self.data)\n",
        "    def __getitem__(self, idx):\n",
        "        image_path = self.data[idx]\n",
        "        label = self.labels[idx]\n",
        "        image = Image.open(image_path).convert('RGB')\n",
        "        if self.transform:\n",
        "            image = self.transform(image)\n",
        "        return image, label\n",
        "\n",
        "# Creating dataset and dataloaders\n",
        "dataset = CustomImageDataset(data, labels, transform)\n",
        "train_size = int(0.7 * len(dataset))\n",
        "val_size = int(0.15 * len(dataset))\n",
        "test_size = len(dataset) - train_size - val_size\n",
        "train_dataset, val_dataset, test_dataset = random_split(dataset, [train_size, val_size, test_size])\n",
        "train_loader = DataLoader(train_dataset, batch_size=32, shuffle=True)\n",
        "val_loader = DataLoader(val_dataset, batch_size=32, shuffle=False)\n",
        "test_loader = DataLoader(test_dataset, batch_size=32, shuffle=False)\n"
      ]
    },
    {
      "cell_type": "markdown",
      "metadata": {},
      "source": [
        "3. Model Definition\n",
        "This section covers the model setup."
      ]
    },
    {
      "cell_type": "code",
      "execution_count": 5,
      "metadata": {},
      "outputs": [],
      "source": [
        "import torch.nn as nn\n",
        "\n",
        "# Define a ConvNet\n",
        "class WasteClassifier(nn.Module):\n",
        "    def __init__(self, num_classes):\n",
        "        super(WasteClassifier, self).__init__()\n",
        "        \n",
        "        # First convolutional layer with 16 filters, kernel size 5, stride 1, padding 2\n",
        "        self.conv1 = nn.Conv2d(3, 16, kernel_size=5, stride=1, padding=2)\n",
        "        # Activation function after first convolution\n",
        "        self.relu1 = nn.ReLU()\n",
        "        # Pooling layer to reduce spatial dimensions by half\n",
        "        self.pool1 = nn.MaxPool2d(kernel_size=2)\n",
        "        \n",
        "        # Second convolutional layer with 32 filters, kernel size 5, stride 1, padding 2\n",
        "        self.conv2 = nn.Conv2d(16, 32, kernel_size=5, stride=1, padding=2)\n",
        "        # Activation function after second convolution\n",
        "        self.relu2 = nn.ReLU()\n",
        "        # Another pooling layer\n",
        "        self.pool2 = nn.MaxPool2d(kernel_size=2)\n",
        "        \n",
        "        # Fully connected layer to map the features to a 512-dimensional feature space\n",
        "        self.fc1 = nn.Linear(32 * 56 * 56, 512)\n",
        "        # Activation function after the first fully connected layer\n",
        "        self.relu3 = nn.ReLU()\n",
        "        # Output layer with number of classes\n",
        "        self.fc2 = nn.Linear(512, num_classes)\n",
        "    \n",
        "    def forward(self, x):\n",
        "        # Define the forward pass through the network\n",
        "        x = self.pool1(self.relu1(self.conv1(x)))  # Convolution -> Activation -> Pooling\n",
        "        x = self.pool2(self.relu2(self.conv2(x)))  # Convolution -> Activation -> Pooling\n",
        "        x = x.view(x.size(0), -1)  # Flatten the output for the fully connected layer\n",
        "        x = self.relu3(self.fc1(x))  # Fully connected layer -> Activation\n",
        "        x = self.fc2(x)  # Output layer\n",
        "        return x\n"
      ]
    },
    {
      "cell_type": "markdown",
      "metadata": {},
      "source": [
        "4. Training Function\n",
        "This part includes the training loop with logging for loss and accuracy."
      ]
    },
    {
      "cell_type": "code",
      "execution_count": 7,
      "metadata": {},
      "outputs": [
        {
          "data": {
            "text/html": [
              "Tracking run with wandb version 0.16.6"
            ],
            "text/plain": [
              "<IPython.core.display.HTML object>"
            ]
          },
          "metadata": {},
          "output_type": "display_data"
        },
        {
          "data": {
            "text/html": [
              "Run data is saved locally in <code>/Users/enxom/Desktop/INM705 CW/wandb/run-20240504_013353-1c8yjmn7</code>"
            ],
            "text/plain": [
              "<IPython.core.display.HTML object>"
            ]
          },
          "metadata": {},
          "output_type": "display_data"
        },
        {
          "data": {
            "text/html": [
              "Syncing run <strong><a href='https://wandb.ai/em-city/WasteClassification/runs/1c8yjmn7' target=\"_blank\">WasteClassifier_v1</a></strong> to <a href='https://wandb.ai/em-city/WasteClassification' target=\"_blank\">Weights & Biases</a> (<a href='https://wandb.me/run' target=\"_blank\">docs</a>)<br/>"
            ],
            "text/plain": [
              "<IPython.core.display.HTML object>"
            ]
          },
          "metadata": {},
          "output_type": "display_data"
        },
        {
          "data": {
            "text/html": [
              " View project at <a href='https://wandb.ai/em-city/WasteClassification' target=\"_blank\">https://wandb.ai/em-city/WasteClassification</a>"
            ],
            "text/plain": [
              "<IPython.core.display.HTML object>"
            ]
          },
          "metadata": {},
          "output_type": "display_data"
        },
        {
          "data": {
            "text/html": [
              " View run at <a href='https://wandb.ai/em-city/WasteClassification/runs/1c8yjmn7' target=\"_blank\">https://wandb.ai/em-city/WasteClassification/runs/1c8yjmn7</a>"
            ],
            "text/plain": [
              "<IPython.core.display.HTML object>"
            ]
          },
          "metadata": {},
          "output_type": "display_data"
        },
        {
          "name": "stdout",
          "output_type": "stream",
          "text": [
            "Epoch 1: Train Loss: 2.1879, Train Acc: 22.68%, Val Loss: 1.2379, Val Acc: 23.75%\n",
            "Epoch 2: Train Loss: 1.1195, Train Acc: 33.71%, Val Loss: 1.0775, Val Acc: 39.05%\n",
            "Epoch 3: Train Loss: 0.9821, Train Acc: 40.27%, Val Loss: 1.0628, Val Acc: 39.58%\n",
            "Epoch 4: Train Loss: 0.9040, Train Acc: 46.21%, Val Loss: 0.9255, Val Acc: 42.48%\n",
            "Epoch 5: Train Loss: 0.8056, Train Acc: 48.59%, Val Loss: 0.8773, Val Acc: 45.65%\n",
            "Epoch 6: Train Loss: 0.6945, Train Acc: 54.92%, Val Loss: 0.8884, Val Acc: 48.02%\n",
            "Epoch 7: Train Loss: 0.6862, Train Acc: 56.50%, Val Loss: 0.8688, Val Acc: 48.55%\n",
            "Epoch 8: Train Loss: 0.5682, Train Acc: 60.35%, Val Loss: 0.8674, Val Acc: 49.08%\n",
            "Epoch 9: Train Loss: 0.5167, Train Acc: 62.78%, Val Loss: 1.0589, Val Acc: 48.55%\n",
            "Epoch 10: Train Loss: 0.5100, Train Acc: 62.16%, Val Loss: 0.9629, Val Acc: 47.23%\n",
            "Epoch 11: Train Loss: 0.3494, Train Acc: 69.57%, Val Loss: 0.8819, Val Acc: 50.66%\n",
            "Epoch 12: Train Loss: 0.2894, Train Acc: 71.95%, Val Loss: 0.8933, Val Acc: 51.45%\n",
            "Epoch 13: Train Loss: 0.2667, Train Acc: 72.34%, Val Loss: 0.9471, Val Acc: 50.66%\n",
            "Epoch 14: Train Loss: 0.2441, Train Acc: 73.47%, Val Loss: 0.8537, Val Acc: 51.98%\n",
            "Epoch 15: Train Loss: 0.2220, Train Acc: 74.72%, Val Loss: 0.9361, Val Acc: 52.51%\n",
            "Epoch 16: Train Loss: 0.2131, Train Acc: 74.94%, Val Loss: 0.9965, Val Acc: 51.45%\n",
            "Epoch 17: Train Loss: 0.2154, Train Acc: 75.57%, Val Loss: 0.9744, Val Acc: 50.40%\n",
            "Epoch 18: Train Loss: 0.2055, Train Acc: 74.83%, Val Loss: 0.8895, Val Acc: 52.24%\n",
            "Epoch 19: Train Loss: 0.1829, Train Acc: 76.36%, Val Loss: 0.9384, Val Acc: 51.45%\n",
            "Epoch 20: Train Loss: 0.1620, Train Acc: 76.75%, Val Loss: 0.9905, Val Acc: 51.45%\n"
          ]
        }
      ],
      "source": [
        "import torch\n",
        "import torch.nn as nn\n",
        "import torch.optim as optim\n",
        "from torch.optim.lr_scheduler import StepLR  \n",
        "\n",
        "class WasteClassifier(nn.Module):\n",
        "    def __init__(self, num_classes):\n",
        "        super(WasteClassifier, self).__init__()\n",
        "        \n",
        "        self.features = nn.Sequential(\n",
        "            nn.Conv2d(3, 32, kernel_size=3, stride=1, padding=1),  #convolutional layer\n",
        "            nn.ReLU(),\n",
        "            nn.MaxPool2d(kernel_size=2, stride=2),\n",
        "            nn.Conv2d(32, 64, kernel_size=3, padding=1),\n",
        "            nn.ReLU(),\n",
        "            nn.MaxPool2d(kernel_size=2, stride=2),\n",
        "        )\n",
        "        self.classifier = nn.Sequential(\n",
        "            nn.Dropout(0.5),  # Dropout layer to prevent overfitting\n",
        "            nn.Linear(64 * 56 * 56, 1024),  # 64 channels, 56x56 spatial dimensions\n",
        "            nn.ReLU(),\n",
        "            nn.Linear(1024, num_classes),\n",
        "        )\n",
        "\n",
        "    def forward(self, x):\n",
        "        x = self.features(x)\n",
        "        x = torch.flatten(x, 1)\n",
        "        x = self.classifier(x)\n",
        "        return x\n",
        "\n",
        "# Initialize the model, optimizer, criterion, and scheduler\n",
        "model = WasteClassifier(num_classes=len(class_to_idx)).to(device)\n",
        "optimizer = optim.Adam(model.parameters(), lr=0.001)\n",
        "criterion = nn.CrossEntropyLoss()\n",
        "scheduler = StepLR(optimizer, step_size=10, gamma=0.1)  \n",
        "\n",
        "def train_model(model, train_loader, val_loader, criterion, optimizer, scheduler, num_epochs=20):\n",
        "    model.train()\n",
        "    for epoch in range(num_epochs):\n",
        "        total_train = 0\n",
        "        correct_train = 0\n",
        "        running_loss = 0.0\n",
        "        \n",
        "        for inputs, labels in train_loader:\n",
        "            inputs, labels = inputs.to(device), labels.to(device)\n",
        "            optimizer.zero_grad()\n",
        "            outputs = model(inputs)\n",
        "            loss = criterion(outputs, labels)\n",
        "            loss.backward()\n",
        "            optimizer.step()\n",
        "\n",
        "            running_loss += loss.item() * inputs.size(0)\n",
        "            _, predicted = torch.max(outputs, 1)\n",
        "            total_train += labels.size(0)\n",
        "            correct_train += (predicted == labels).sum().item()\n",
        "\n",
        "        scheduler.step()  # Adjust the learning rate\n",
        "        epoch_loss = running_loss / total_train\n",
        "        epoch_accuracy = correct_train / total_train * 100\n",
        "\n",
        "        # Validation phase\n",
        "        model.eval()\n",
        "        total_val = 0\n",
        "        correct_val = 0\n",
        "        running_val_loss = 0.0\n",
        "        with torch.no_grad():\n",
        "            for inputs, labels in val_loader:\n",
        "                inputs, labels = inputs.to(device), labels.to(device)\n",
        "                outputs = model(inputs)\n",
        "                loss = criterion(outputs, labels)\n",
        "                running_val_loss += loss.item() * inputs.size(0)\n",
        "                _, predicted = torch.max(outputs, 1)\n",
        "                total_val += labels.size(0)\n",
        "                correct_val += (predicted == labels).sum().item()\n",
        "\n",
        "        val_loss = running_val_loss / total_val\n",
        "        val_accuracy = correct_val / total_val * 100\n",
        "\n",
        "        print(f'Epoch {epoch+1}: Train Loss: {epoch_loss:.4f}, Train Acc: {epoch_accuracy:.2f}%, '\n",
        "              f'Val Loss: {val_loss:.4f}, Val Acc: {val_accuracy:.2f}%')\n",
        "#Wandb initialization\n",
        "wandb.init(project='WasteClassification', name='WasteClassifier_v1')\n",
        "\n",
        "# Training the model\n",
        "train_model(model, train_loader, val_loader, criterion, optimizer, scheduler)\n"
      ]
    },
    {
      "cell_type": "markdown",
      "metadata": {},
      "source": [
        "5. Evaluation and Metrics\n",
        "Finally, we evaluate the model on the test set and plot confusion matrices and other useful metrics."
      ]
    },
    {
      "cell_type": "code",
      "execution_count": 8,
      "metadata": {},
      "outputs": [
        {
          "name": "stdout",
          "output_type": "stream",
          "text": [
            "Test Accuracy: 49.47%\n"
          ]
        },
        {
          "data": {
            "image/png": "[encoded data removed]",
            "text/plain": [
              "<Figure size 1000x700 with 2 Axes>"
            ]
          },
          "metadata": {},
          "output_type": "display_data"
        }
      ],
      "source": [
        "# Evaluation function to measure the accuracy and other metrics\n",
        "def evaluate_model(model, test_loader):\n",
        "    model.eval()  # Set the model to evaluation mode\n",
        "    total_test = 0\n",
        "    correct_test = 0\n",
        "    all_labels = []\n",
        "    all_preds = []\n",
        "\n",
        "    with torch.no_grad():\n",
        "        for inputs, labels in test_loader:\n",
        "            inputs, labels = inputs.to(device), labels.to(device)\n",
        "            outputs = model(inputs)\n",
        "            _, preds = torch.max(outputs, 1)\n",
        "            total_test += labels.size(0)\n",
        "            correct_test += (preds == labels).sum().item()\n",
        "            all_labels.extend(labels.cpu().numpy())\n",
        "            all_preds.extend(preds.cpu().numpy())\n",
        "\n",
        "    accuracy = correct_test / total_test * 100\n",
        "    print(f'Test Accuracy: {accuracy:.2f}%')\n",
        "\n",
        "    # Compute confusion matrix\n",
        "    cm = confusion_matrix(all_labels, all_preds)\n",
        "    plt.figure(figsize=(10, 7))\n",
        "    sns.heatmap(cm, annot=True, fmt='d', cmap='Blues')\n",
        "    plt.xlabel('Predicted Labels')\n",
        "    plt.ylabel('True Labels')\n",
        "    plt.title('Confusion Matrix')\n",
        "    plt.show()\n",
        "\n",
        "# Call the evaluation function\n",
        "evaluate_model(model, test_loader)\n"
      ]
    }
  ],
  "metadata": {
    "accelerator": "GPU",
    "colab": {
      "gpuType": "T4",
      "provenance": []
    },
    "kernelspec": {
      "display_name": "Python 3",
      "name": "python3"
    },
    "language_info": {
      "codemirror_mode": {
        "name": "ipython",
        "version": 3
      },
      "file_extension": ".py",
      "mimetype": "text/x-python",
      "name": "python",
      "nbconvert_exporter": "python",
      "pygments_lexer": "ipython3",
      "version": "3.12.0"
    }
  },
  "nbformat": 4,
  "nbformat_minor": 0
}
