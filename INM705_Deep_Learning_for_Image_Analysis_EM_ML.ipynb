{
  "cells": [
    {
      "cell_type": "markdown",
      "metadata": {},
      "source": [
        "1. Setup and Imports\n",
        "We imported necessary libraries and defined the device configuration for training. Apple silicon processor M1. "
      ]
    },
    {
      "cell_type": "code",
      "execution_count": 1,
      "metadata": {},
      "outputs": [
        {
          "name": "stdout",
          "output_type": "stream",
          "text": [
            "Using device: mps\n"
          ]
        }
      ],
      "source": [
        "import torch\n",
        "import torchvision.transforms as transforms\n",
        "import torchvision.models as models\n",
        "import torch.nn as nn\n",
        "from torch.utils.data import DataLoader, random_split\n",
        "from torchvision.datasets import ImageFolder\n",
        "from PIL import Image\n",
        "import os\n",
        "import glob\n",
        "import matplotlib.pyplot as plt\n",
        "import seaborn as sns\n",
        "import numpy as np\n",
        "from sklearn.metrics import confusion_matrix, accuracy_score\n",
        "\n",
        "# Check for device: use MPS if available, otherwise use CPU\n",
        "device = torch.device(\"mps\" if torch.backends.mps.is_available() else \"cpu\")\n",
        "print(f\"Using device: {device}\")\n"
      ]
    },
    {
      "cell_type": "code",
      "execution_count": 2,
      "metadata": {},
      "outputs": [
        {
          "name": "stderr",
          "output_type": "stream",
          "text": [
            "\u001b[34m\u001b[1mwandb\u001b[0m: Currently logged in as: \u001b[33menxo7899\u001b[0m (\u001b[33mem-city\u001b[0m). Use \u001b[1m`wandb login --relogin`\u001b[0m to force relogin\n",
            "\u001b[34m\u001b[1mwandb\u001b[0m: \u001b[33mWARNING\u001b[0m If you're specifying your api key in code, ensure this code is not shared publicly.\n",
            "\u001b[34m\u001b[1mwandb\u001b[0m: \u001b[33mWARNING\u001b[0m Consider setting the WANDB_API_KEY environment variable, or running `wandb login` from the command line.\n",
            "\u001b[34m\u001b[1mwandb\u001b[0m: Appending key for api.wandb.ai to your netrc file: /Users/enxom/.netrc\n"
          ]
        },
        {
          "data": {
            "text/plain": [
              "True"
            ]
          },
          "execution_count": 2,
          "metadata": {},
          "output_type": "execute_result"
        }
      ],
      "source": [
        "import wandb\n",
        "import os\n",
        "\n",
        "# Set the notebook name\n",
        "os.environ[\"WANDB_NOTEBOOK_NAME\"] = \"INM705_Deep_Learning_for_Image_Analysis_EM_ML.ipynb\"\n",
        "\n",
        "\n",
        "# Login with the API KEY\n",
        "wandb.login(key=\"9ce954fd827fd8d839648cb3708ff788ad51bafa\")"
      ]
    },
    {
      "cell_type": "markdown",
      "metadata": {},
      "source": [
        "2. Data Preparation\n",
        "This snippet involves loading the data, defining image transformations, and preparing DataLoader objects for training, validation, and testing datasets."
      ]
    },
    {
      "cell_type": "code",
      "execution_count": 3,
      "metadata": {},
      "outputs": [],
      "source": [
        "import os\n",
        "import glob\n",
        "import torch\n",
        "from torchvision import transforms\n",
        "from torchvision.datasets import ImageFolder\n",
        "from torch.utils.data import DataLoader, random_split\n",
        "from PIL import Image\n",
        "\n",
        "def is_valid_file(file_path):\n",
        "    # List of valid image extensions\n",
        "    valid_extensions = ['.jpg', '.jpeg', '.png', '.ppm', '.bmp', '.pgm', '.tif', '.tiff', '.webp']\n",
        "    # Check if file ends with a valid extension\n",
        "    return any(file_path.endswith(ext) for ext in valid_extensions)\n",
        "\n",
        "def collect_data(directory):\n",
        "    # Initialize lists to store data and labels\n",
        "    data = []\n",
        "    labels = []\n",
        "    # Map each class to an index\n",
        "    class_to_idx = {cls: idx for idx, cls in enumerate(os.listdir(directory)) if os.path.isdir(os.path.join(directory, cls))}\n",
        "    # Iterate through each class directory\n",
        "    for cls, idx in class_to_idx.items():\n",
        "        class_path = os.path.join(directory, cls)\n",
        "        # Add each valid file to the data list\n",
        "        for file_path in glob.glob(os.path.join(class_path, '*')):\n",
        "            if is_valid_file(file_path):\n",
        "                data.append(file_path)\n",
        "                labels.append(idx)\n",
        "    return data, labels, class_to_idx\n",
        "\n",
        "# Define the path to your dataset\n",
        "dataset_path = '/Users/enxom/Desktop/INM705 CW/dataset1'\n",
        "data, labels, class_to_idx = collect_data(dataset_path)\n",
        "\n",
        "# Define transformations to apply to each image\n",
        "transform = transforms.Compose([\n",
        "    transforms.Resize((224, 224)),  # Resize images to 224x224\n",
        "    transforms.ColorJitter(brightness=0.2, contrast=0.2, saturation=0.2, hue=0.1),  # Randomly alter brightness, contrast, saturation, and hue\n",
        "    transforms.RandomHorizontalFlip(),  # Randomly flip images horizontally\n",
        "    transforms.ToTensor()  # Convert images to tensor\n",
        "])\n",
        "\n",
        "class CustomImageDataset(torch.utils.data.Dataset):\n",
        "    def __init__(self, data, labels, transform=None):\n",
        "        self.data = data\n",
        "        self.labels = labels\n",
        "        self.transform = transform\n",
        "\n",
        "    def __len__(self):\n",
        "        # Return the number of items in the dataset\n",
        "        return len(self.data)\n",
        "\n",
        "    def __getitem__(self, idx):\n",
        "        # Load an image and its label by index\n",
        "        image_path = self.data[idx]\n",
        "        label = self.labels[idx]\n",
        "        image = Image.open(image_path).convert('RGB')\n",
        "        # Apply transformations to the image\n",
        "        if self.transform:\n",
        "            image = self.transform(image)\n",
        "        return image, label\n",
        "\n",
        "# Create the dataset\n",
        "dataset = CustomImageDataset(data, labels, transform)\n",
        "# Split the dataset into training, validation, and test sets\n",
        "train_size = int(0.7 * len(dataset))\n",
        "val_size = int(0.15 * len(dataset))\n",
        "test_size = len(dataset) - train_size - val_size\n",
        "train_dataset, val_dataset, test_dataset = random_split(dataset, [train_size, val_size, test_size])\n",
        "# Create DataLoader for each dataset\n",
        "train_loader = DataLoader(train_dataset, batch_size=32, shuffle=True)\n",
        "val_loader = DataLoader(val_dataset, batch_size=32, shuffle=False)\n",
        "test_loader = DataLoader(test_dataset, batch_size=32, shuffle=False)\n"
      ]
    },
    {
      "cell_type": "markdown",
      "metadata": {},
      "source": [
        "3. Model Definition\n",
        "This section covers the model setup."
      ]
    },
    {
      "cell_type": "code",
      "execution_count": 4,
      "metadata": {},
      "outputs": [],
      "source": [
        "import torch.nn as nn\n",
        "\n",
        "# Neural network class\n",
        "class WasteClassifier(nn.Module):\n",
        "    def __init__(self, num_classes):\n",
        "        super(WasteClassifier, self).__init__()\n",
        "        self.features = nn.Sequential(\n",
        "            nn.Conv2d(3, 32, kernel_size=3, stride=1, padding=1),  # Convolutional layer\n",
        "            nn.ReLU(),  # Activation function\n",
        "            nn.MaxPool2d(kernel_size=2, stride=2),  # Pooling layer\n",
        "            nn.Conv2d(32, 64, kernel_size=3, padding=1),  # Another convolutional layer\n",
        "            nn.ReLU(),  # Activation function\n",
        "            nn.MaxPool2d(kernel_size=2, stride=2),  # Another pooling layer\n",
        "        )\n",
        "        self.classifier = nn.Sequential(\n",
        "            nn.Dropout(0.5),  # Dropout to prevent overfitting\n",
        "            nn.Linear(64 * 56 * 56, 1024),  # Fully connected layer\n",
        "            nn.ReLU(),  # Activation function\n",
        "            nn.Linear(1024, num_classes),  # Output layer\n",
        "        )\n",
        "\n",
        "    def forward(self, x):\n",
        "        x = self.features(x)  # Apply convolutional layers\n",
        "        x = torch.flatten(x, 1)  # Flatten output for fully connected layer\n",
        "        x = self.classifier(x)  # Apply classifier\n",
        "        return x\n"
      ]
    },
    {
      "cell_type": "markdown",
      "metadata": {},
      "source": [
        "4. Training Function\n",
        "This part includes the training loop with logging for loss and accuracy."
      ]
    },
    {
      "cell_type": "code",
      "execution_count": 5,
      "metadata": {},
      "outputs": [
        {
          "data": {
            "text/html": [
              "Tracking run with wandb version 0.16.6"
            ],
            "text/plain": [
              "<IPython.core.display.HTML object>"
            ]
          },
          "metadata": {},
          "output_type": "display_data"
        },
        {
          "data": {
            "text/html": [
              "Run data is saved locally in <code>/Users/enxom/Desktop/INM705 CW/wandb/run-20240504_024031-ueji5dea</code>"
            ],
            "text/plain": [
              "<IPython.core.display.HTML object>"
            ]
          },
          "metadata": {},
          "output_type": "display_data"
        },
        {
          "data": {
            "text/html": [
              "Syncing run <strong><a href='https://wandb.ai/em-city/WasteClassification/runs/ueji5dea' target=\"_blank\">WasteClassifier_v1</a></strong> to <a href='https://wandb.ai/em-city/WasteClassification' target=\"_blank\">Weights & Biases</a> (<a href='https://wandb.me/run' target=\"_blank\">docs</a>)<br/>"
            ],
            "text/plain": [
              "<IPython.core.display.HTML object>"
            ]
          },
          "metadata": {},
          "output_type": "display_data"
        },
        {
          "data": {
            "text/html": [
              " View project at <a href='https://wandb.ai/em-city/WasteClassification' target=\"_blank\">https://wandb.ai/em-city/WasteClassification</a>"
            ],
            "text/plain": [
              "<IPython.core.display.HTML object>"
            ]
          },
          "metadata": {},
          "output_type": "display_data"
        },
        {
          "data": {
            "text/html": [
              " View run at <a href='https://wandb.ai/em-city/WasteClassification/runs/ueji5dea' target=\"_blank\">https://wandb.ai/em-city/WasteClassification/runs/ueji5dea</a>"
            ],
            "text/plain": [
              "<IPython.core.display.HTML object>"
            ]
          },
          "metadata": {},
          "output_type": "display_data"
        },
        {
          "name": "stdout",
          "output_type": "stream",
          "text": [
            "Epoch 1: Train Loss: 2.0115, Train Acc: 24.15%, Val Loss: 1.0155, Val Acc: 36.41%\n",
            "Epoch 2: Train Loss: 1.0136, Train Acc: 36.43%, Val Loss: 0.9779, Val Acc: 48.81%\n",
            "Epoch 3: Train Loss: 0.9319, Train Acc: 43.55%, Val Loss: 0.9004, Val Acc: 47.23%\n",
            "Epoch 4: Train Loss: 0.8900, Train Acc: 45.14%, Val Loss: 1.0437, Val Acc: 37.47%\n",
            "Epoch 5: Train Loss: 0.8266, Train Acc: 48.98%, Val Loss: 0.8395, Val Acc: 51.98%\n",
            "Epoch 6: Train Loss: 0.7440, Train Acc: 53.90%, Val Loss: 1.0684, Val Acc: 38.26%\n",
            "Epoch 7: Train Loss: 0.6393, Train Acc: 56.73%, Val Loss: 0.8791, Val Acc: 53.03%\n",
            "Epoch 8: Train Loss: 0.5584, Train Acc: 59.33%, Val Loss: 0.7540, Val Acc: 53.30%\n",
            "Epoch 9: Train Loss: 0.4895, Train Acc: 62.78%, Val Loss: 0.8588, Val Acc: 54.88%\n",
            "Epoch 10: Train Loss: 0.4779, Train Acc: 63.74%, Val Loss: 0.7912, Val Acc: 56.73%\n",
            "Epoch 11: Train Loss: 0.3835, Train Acc: 66.46%, Val Loss: 0.9135, Val Acc: 57.26%\n",
            "Epoch 12: Train Loss: 0.3339, Train Acc: 68.44%, Val Loss: 0.8622, Val Acc: 53.83%\n",
            "Epoch 13: Train Loss: 0.2615, Train Acc: 71.61%, Val Loss: 1.0094, Val Acc: 57.78%\n",
            "Epoch 14: Train Loss: 0.2263, Train Acc: 73.59%, Val Loss: 1.1569, Val Acc: 54.62%\n",
            "Epoch 15: Train Loss: 0.1927, Train Acc: 74.21%, Val Loss: 0.9240, Val Acc: 53.56%\n",
            "Epoch 16: Train Loss: 0.1493, Train Acc: 75.28%, Val Loss: 1.1743, Val Acc: 54.09%\n",
            "Epoch 17: Train Loss: 0.1640, Train Acc: 75.85%, Val Loss: 1.2555, Val Acc: 53.30%\n",
            "Epoch 18: Train Loss: 0.1060, Train Acc: 77.71%, Val Loss: 1.2649, Val Acc: 54.09%\n",
            "Epoch 19: Train Loss: 0.0971, Train Acc: 78.05%, Val Loss: 1.3865, Val Acc: 49.08%\n",
            "Epoch 20: Train Loss: 0.0984, Train Acc: 77.43%, Val Loss: 1.1170, Val Acc: 56.20%\n"
          ]
        }
      ],
      "source": [
        "import torch.optim as optim\n",
        "from sklearn.utils.class_weight import compute_class_weight\n",
        "\n",
        "# Calculate class weights\n",
        "class_weights = compute_class_weight('balanced', classes=np.unique(labels), y=labels)\n",
        "class_weights_tensor = torch.tensor(class_weights, dtype=torch.float32, device=device)\n",
        "\n",
        "# Initialize model, optimizer, and loss function with class weights\n",
        "model = WasteClassifier(num_classes=len(class_to_idx)).to(device)\n",
        "optimizer = optim.Adam(model.parameters(), lr=0.001)\n",
        "criterion = nn.CrossEntropyLoss(weight=class_weights_tensor)\n",
        "\n",
        "def train_model(model, train_loader, val_loader, criterion, optimizer, num_epochs=20):\n",
        "    model.train()\n",
        "    for epoch in range(num_epochs):\n",
        "        running_loss = 0.0\n",
        "        total_train = 0\n",
        "        correct_train = 0\n",
        "\n",
        "        for inputs, labels in train_loader:\n",
        "            inputs, labels = inputs.to(device), labels.to(device)\n",
        "            optimizer.zero_grad()\n",
        "            outputs = model(inputs)\n",
        "            loss = criterion(outputs, labels)\n",
        "            loss.backward()\n",
        "            optimizer.step()\n",
        "\n",
        "            running_loss += loss.item() * inputs.size(0)\n",
        "            _, predicted = torch.max(outputs, 1)\n",
        "            total_train += labels.size(0)\n",
        "            correct_train += (predicted == labels).sum().item()\n",
        "\n",
        "        epoch_loss = running_loss / total_train\n",
        "        epoch_accuracy = correct_train / total_train * 100\n",
        "\n",
        "        # Validation phase\n",
        "        model.eval()\n",
        "        running_val_loss = 0.0\n",
        "        total_val = 0\n",
        "        correct_val = 0\n",
        "\n",
        "        with torch.no_grad():\n",
        "            for inputs, labels in val_loader:\n",
        "                inputs, labels = inputs.to(device), labels.to(device)\n",
        "                outputs = model(inputs)\n",
        "                loss = criterion(outputs, labels)\n",
        "                running_val_loss += loss.item() * inputs.size(0)\n",
        "                _, predicted = torch.max(outputs, 1)\n",
        "                total_val += labels.size(0)\n",
        "                correct_val += (predicted == labels).sum().item()\n",
        "\n",
        "        val_loss = running_val_loss / total_val\n",
        "        val_accuracy = correct_val / total_val * 100\n",
        "\n",
        "        print(f'Epoch {epoch+1}: Train Loss: {epoch_loss:.4f}, Train Acc: {epoch_accuracy:.2f}%, '\n",
        "              f'Val Loss: {val_loss:.4f}, Val Acc: {val_accuracy:.2f}%')\n",
        "\n",
        "#Wandb initialization\n",
        "wandb.init(project='WasteClassification', name='WasteClassifier_v1')\n",
        "\n",
        "# Train the model\n",
        "train_model(model, train_loader, val_loader, criterion, optimizer)\n"
      ]
    },
    {
      "cell_type": "markdown",
      "metadata": {},
      "source": [
        "5. Evaluation and Metrics\n",
        "Finally, we evaluate the model on the test set and plot confusion matrices and other useful metrics."
      ]
    },
    {
      "cell_type": "code",
      "execution_count": 6,
      "metadata": {},
      "outputs": [
        {
          "name": "stdout",
          "output_type": "stream",
          "text": [
            "Test Accuracy: 53.68%\n"
          ]
        },
        {
          "data": {
            "image/png": "[encoded data removed]",
            "text/plain": [
              "<Figure size 1000x700 with 2 Axes>"
            ]
          },
          "metadata": {},
          "output_type": "display_data"
        }
      ],
      "source": [
        "# Function to evaluate the model on the test set\n",
        "def evaluate_model(model, test_loader):\n",
        "    model.eval()  # Set the model to evaluation mode\n",
        "    total_test = 0\n",
        "    correct_test = 0\n",
        "    all_labels = []\n",
        "    all_preds = []\n",
        "\n",
        "    with torch.no_grad():\n",
        "        for inputs, labels in test_loader:\n",
        "            inputs, labels = inputs.to(device), labels.to(device)\n",
        "            outputs = model(inputs)\n",
        "            _, preds = torch.max(outputs, 1)\n",
        "            total_test += labels.size(0)\n",
        "            correct_test += (preds == labels).sum().item()\n",
        "            all_labels.extend(labels.cpu().numpy())\n",
        "            all_preds.extend(preds.cpu().numpy())\n",
        "\n",
        "    accuracy = correct_test / total_test * 100\n",
        "    print(f'Test Accuracy: {accuracy:.2f}%')\n",
        "\n",
        "    # Compute and plot the confusion matrix\n",
        "    cm = confusion_matrix(all_labels, all_preds)\n",
        "    plt.figure(figsize=(10, 7))\n",
        "    sns.heatmap(cm, annot=True, fmt='d', cmap='Blues')\n",
        "    plt.xlabel('Predicted Labels')\n",
        "    plt.ylabel('True Labels')\n",
        "    plt.title('Confusion Matrix')\n",
        "    plt.show()\n",
        "\n",
        "# Call the evaluation function to test the model\n",
        "evaluate_model(model, test_loader)\n"
      ]
    }
  ],
  "metadata": {
    "accelerator": "GPU",
    "colab": {
      "gpuType": "T4",
      "provenance": []
    },
    "kernelspec": {
      "display_name": "Python 3",
      "name": "python3"
    },
    "language_info": {
      "codemirror_mode": {
        "name": "ipython",
        "version": 3
      },
      "file_extension": ".py",
      "mimetype": "text/x-python",
      "name": "python",
      "nbconvert_exporter": "python",
      "pygments_lexer": "ipython3",
      "version": "3.12.0"
    }
  },
  "nbformat": 4,
  "nbformat_minor": 0
}
